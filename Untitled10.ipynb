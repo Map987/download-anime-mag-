{
  "nbformat": 4,
  "nbformat_minor": 0,
  "metadata": {
    "colab": {
      "provenance": [],
      "authorship_tag": "ABX9TyP1Bdqzns8nUmpHE6a0wP1v",
      "include_colab_link": true
    },
    "kernelspec": {
      "name": "python3",
      "display_name": "Python 3"
    },
    "language_info": {
      "name": "python"
    }
  },
  "cells": [
    {
      "cell_type": "markdown",
      "metadata": {
        "id": "view-in-github",
        "colab_type": "text"
      },
      "source": [
        "<a href=\"https://colab.research.google.com/github/Map987/download-anime-mag-/blob/main/Untitled10.ipynb\" target=\"_parent\"><img src=\"https://colab.research.google.com/assets/colab-badge.svg\" alt=\"Open In Colab\"/></a>"
      ]
    },
    {
      "cell_type": "code",
      "execution_count": 2,
      "metadata": {
        "id": "EYHMCIYVGINg",
        "colab": {
          "base_uri": "https://localhost:8080/"
        },
        "outputId": "a5a2b98c-807b-4e71-c51e-57c0d5e9785c"
      },
      "outputs": [
        {
          "output_type": "stream",
          "name": "stdout",
          "text": [
            "Cloning into 'download-anime-mag-'...\n",
            "remote: Enumerating objects: 64, done.\u001b[K\n",
            "remote: Counting objects: 100% (3/3), done.\u001b[K\n",
            "remote: Compressing objects: 100% (3/3), done.\u001b[K\n",
            "remote: Total 64 (delta 0), reused 0 (delta 0), pack-reused 61\u001b[K\n",
            "Unpacking objects: 100% (64/64), 2.37 MiB | 2.25 MiB/s, done.\n"
          ]
        }
      ],
      "source": [
        "!git clone https://github.com/Map987/download-anime-mag-.git"
      ]
    },
    {
      "cell_type": "code",
      "source": [
        "import os\n",
        "import re\n",
        "import xml.etree.ElementTree as ET\n",
        "from typing import List\n",
        "\n",
        "def extract_links(xml_string: str) -> List[str]:\n",
        "    root = ET.fromstring(xml_string)\n",
        "    links = []\n",
        "    for url in root.findall('{http://www.sitemaps.org/schemas/sitemap/0.9}url'):\n",
        "        image_loc = url.find('{http://www.google.com/schemas/sitemap-image/1.1}image').find('{http://www.google.com/schemas/sitemap-image/1.1}loc').text\n",
        "        if image_loc:\n",
        "            links.append(image_loc)\n",
        "    return links"
      ],
      "metadata": {
        "id": "jfueYf3_HIa1"
      },
      "execution_count": 3,
      "outputs": []
    },
    {
      "cell_type": "code",
      "source": [
        "def write_links_to_file(file_path: str, links: List[str]) -> None:\n",
        "    with open(file_path, 'w') as f:\n",
        "        for link in links:\n",
        "            f.write(link)"
      ],
      "metadata": {
        "id": "Xu9KHaCvNKqB"
      },
      "execution_count": null,
      "outputs": []
    },
    {
      "cell_type": "code",
      "source": [
        "input_folder = '/content/download-anime-mag-/'\n",
        "output_folder = '/content/sample_data/outputtxt/'\n",
        "\n",
        "for file_name in os.listdir(input_folder):\n",
        "    if file_name.endswith('.xml'):\n",
        "        input_path = os.path.join(input_folder, file_name)\n",
        "        with open(input_path, 'r') as f:\n",
        "            xml_string = f.read()\n",
        "        links = extract_links(xml_string)\n",
        "        output_path = os.path.join(output_folder, file_name[:-4] + '.txt')\n",
        "        write_links_to_file(output_path, links)\n",
        "        print(f'{output_path} written successfully.\\n')"
      ],
      "metadata": {
        "colab": {
          "base_uri": "https://localhost:8080/"
        },
        "id": "nHdfMeQ5HM1R",
        "outputId": "78972741-2b99-4646-bb12-3fe1675b4d3b"
      },
      "execution_count": 12,
      "outputs": [
        {
          "output_type": "stream",
          "name": "stdout",
          "text": [
            "/content/sample_data/outputtxt/image-sitemap-13.txt written successfully.\n",
            "\n",
            "/content/sample_data/outputtxt/image-sitemap-54.txt written successfully.\n",
            "\n",
            "/content/sample_data/outputtxt/image-sitemap-14.txt written successfully.\n",
            "\n",
            "/content/sample_data/outputtxt/image-sitemap-27.txt written successfully.\n",
            "\n",
            "/content/sample_data/outputtxt/image-sitemap-3.txt written successfully.\n",
            "\n",
            "/content/sample_data/outputtxt/image-sitemap-53.txt written successfully.\n",
            "\n",
            "/content/sample_data/outputtxt/image-sitemap-18.txt written successfully.\n",
            "\n",
            "/content/sample_data/outputtxt/image-sitemap-17.txt written successfully.\n",
            "\n",
            "/content/sample_data/outputtxt/image-sitemap-45.txt written successfully.\n",
            "\n",
            "/content/sample_data/outputtxt/image-sitemap-21.txt written successfully.\n",
            "\n",
            "/content/sample_data/outputtxt/image-sitemap-4.txt written successfully.\n",
            "\n",
            "/content/sample_data/outputtxt/image-sitemap-2.txt written successfully.\n",
            "\n",
            "/content/sample_data/outputtxt/image-sitemap-23.txt written successfully.\n",
            "\n",
            "/content/sample_data/outputtxt/image-sitemap-49.txt written successfully.\n",
            "\n",
            "/content/sample_data/outputtxt/image-sitemap-24.txt written successfully.\n",
            "\n",
            "/content/sample_data/outputtxt/image-sitemap-57_1.txt written successfully.\n",
            "\n",
            "/content/sample_data/outputtxt/image-sitemap-35.txt written successfully.\n",
            "\n",
            "/content/sample_data/outputtxt/image-sitemap-15.txt written successfully.\n",
            "\n",
            "/content/sample_data/outputtxt/image-sitemap-29.txt written successfully.\n",
            "\n",
            "/content/sample_data/outputtxt/image-sitemap-5.txt written successfully.\n",
            "\n",
            "/content/sample_data/outputtxt/image-sitemap-31.txt written successfully.\n",
            "\n",
            "/content/sample_data/outputtxt/image-sitemap-56.txt written successfully.\n",
            "\n",
            "/content/sample_data/outputtxt/image-sitemap-43.txt written successfully.\n",
            "\n",
            "/content/sample_data/outputtxt/image-sitemap-34.txt written successfully.\n",
            "\n",
            "/content/sample_data/outputtxt/image-sitemap-9.txt written successfully.\n",
            "\n",
            "/content/sample_data/outputtxt/image-sitemap-48.txt written successfully.\n",
            "\n",
            "/content/sample_data/outputtxt/image-sitemap-42.txt written successfully.\n",
            "\n",
            "/content/sample_data/outputtxt/image-sitemap-12.txt written successfully.\n",
            "\n",
            "/content/sample_data/outputtxt/image-sitemap-37.txt written successfully.\n",
            "\n",
            "/content/sample_data/outputtxt/image-sitemap-33.txt written successfully.\n",
            "\n",
            "/content/sample_data/outputtxt/image-sitemap-46.txt written successfully.\n",
            "\n",
            "/content/sample_data/outputtxt/image-sitemap-1.txt written successfully.\n",
            "\n",
            "/content/sample_data/outputtxt/image-sitemap-38.txt written successfully.\n",
            "\n",
            "/content/sample_data/outputtxt/image-sitemap-51.txt written successfully.\n",
            "\n",
            "/content/sample_data/outputtxt/image-sitemap-22.txt written successfully.\n",
            "\n",
            "/content/sample_data/outputtxt/image-sitemap-39.txt written successfully.\n",
            "\n",
            "/content/sample_data/outputtxt/image-sitemap-47.txt written successfully.\n",
            "\n",
            "/content/sample_data/outputtxt/image-sitemap-44.txt written successfully.\n",
            "\n",
            "/content/sample_data/outputtxt/image-sitemap-19.txt written successfully.\n",
            "\n",
            "/content/sample_data/outputtxt/image-sitemap-7.txt written successfully.\n",
            "\n",
            "/content/sample_data/outputtxt/image-sitemap-30.txt written successfully.\n",
            "\n",
            "/content/sample_data/outputtxt/image-sitemap-26.txt written successfully.\n",
            "\n",
            "/content/sample_data/outputtxt/image-sitemap-32.txt written successfully.\n",
            "\n",
            "/content/sample_data/outputtxt/image-sitemap-50.txt written successfully.\n",
            "\n",
            "/content/sample_data/outputtxt/image-sitemap-55_1.txt written successfully.\n",
            "\n",
            "/content/sample_data/outputtxt/image-sitemap-25_1.txt written successfully.\n",
            "\n",
            "/content/sample_data/outputtxt/image-sitemap-10.txt written successfully.\n",
            "\n",
            "/content/sample_data/outputtxt/image-sitemap-6.txt written successfully.\n",
            "\n",
            "/content/sample_data/outputtxt/image-sitemap-11.txt written successfully.\n",
            "\n",
            "/content/sample_data/outputtxt/image-sitemap-28.txt written successfully.\n",
            "\n",
            "/content/sample_data/outputtxt/image-sitemap-52.txt written successfully.\n",
            "\n",
            "/content/sample_data/outputtxt/image-sitemap-16.txt written successfully.\n",
            "\n",
            "/content/sample_data/outputtxt/image-sitemap-41.txt written successfully.\n",
            "\n",
            "/content/sample_data/outputtxt/image-sitemap-36.txt written successfully.\n",
            "\n",
            "/content/sample_data/outputtxt/image-sitemap-8.txt written successfully.\n",
            "\n",
            "/content/sample_data/outputtxt/image-sitemap-40.txt written successfully.\n",
            "\n",
            "/content/sample_data/outputtxt/image-sitemap-20.txt written successfully.\n",
            "\n"
          ]
        }
      ]
    },
    {
      "cell_type": "code",
      "source": [
        "import os\n",
        "\n",
        "input_folder_path = '/content/sample_data/outputtxt/'\n",
        "output_folder_path = '/content/sample_data/outtxt/'\n",
        "\n",
        "# get all .txt files in input folder\n",
        "files = [f for f in os.listdir(input_folder_path) if os.path.isfile(os.path.join(input_folder_path, f)) and f.endswith('.txt')]\n",
        "\n",
        "for file_name in files:\n",
        "    # open input file\n",
        "    input_file_path = os.path.join(input_folder_path, file_name)\n",
        "    with open(input_file_path, 'r') as input_file:\n",
        "        file_content = input_file.read()\n",
        "\n",
        "    # add newline before each https\n",
        "    file_content = file_content.replace('https://', 'https://')\n",
        "\n",
        "    # create output file\n",
        "    output_file_path = os.path.join(output_folder_path, file_name)\n",
        "    with open(output_file_path, 'w') as output_file:\n",
        "        output_file.write(file_content)"
      ],
      "metadata": {
        "id": "imVFF1FMNOWH"
      },
      "execution_count": 14,
      "outputs": []
    },
    {
      "cell_type": "code",
      "source": [
        "import requests\n",
        "\n",
        "url = 'https://aniverse-mag.com/wp-content/uploads/2023/05/sample_set_blue.jpg'\n",
        "file_path = '/content/sample_set_blue.jpg'\n",
        "\n",
        "response = requests.get(url)\n",
        "\n",
        "with open(file_path, 'wb') as file:\n",
        "    file.write(response.content)\n",
        "\n",
        "print('Image downloaded successfully.')"
      ],
      "metadata": {
        "colab": {
          "base_uri": "https://localhost:8080/"
        },
        "id": "yJ1W9xc_QwcP",
        "outputId": "7bbe5a30-f14f-492b-a6da-64ff5c4fe3f8"
      },
      "execution_count": 15,
      "outputs": [
        {
          "output_type": "stream",
          "name": "stdout",
          "text": [
            "Image downloaded successfully.\n"
          ]
        }
      ]
    },
    {
      "cell_type": "code",
      "source": [],
      "metadata": {
        "id": "u-Eyot_CRMYt"
      },
      "execution_count": null,
      "outputs": []
    },
    {
      "cell_type": "code",
      "source": [],
      "metadata": {
        "id": "IOYCRsywPrOS"
      },
      "execution_count": null,
      "outputs": []
    }
  ]
}