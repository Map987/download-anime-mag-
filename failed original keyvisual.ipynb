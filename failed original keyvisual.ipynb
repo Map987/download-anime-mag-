{
  "nbformat": 4,
  "nbformat_minor": 0,
  "metadata": {
    "colab": {
      "provenance": [],
      "gpuType": "T4",
      "include_colab_link": true
    },
    "kernelspec": {
      "name": "python3",
      "display_name": "Python 3"
    },
    "language_info": {
      "name": "python"
    },
    "accelerator": "GPU"
  },
  "cells": [
    {
      "cell_type": "markdown",
      "metadata": {
        "id": "view-in-github",
        "colab_type": "text"
      },
      "source": [
        "<a href=\"https://colab.research.google.com/github/Map987/download-anime-mag-/blob/main/failed%20original%20keyvisual.ipynb\" target=\"_parent\"><img src=\"https://colab.research.google.com/assets/colab-badge.svg\" alt=\"Open In Colab\"/></a>"
      ]
    },
    {
      "cell_type": "code",
      "execution_count": 1,
      "metadata": {
        "id": "AMLNjIxZ4Nwr",
        "outputId": "9873d829-18dd-4757-c918-b8679cbcec8d",
        "colab": {
          "base_uri": "https://localhost:8080/"
        }
      },
      "outputs": [
        {
          "output_type": "stream",
          "name": "stdout",
          "text": [
            "Cloning into 'download-anime-mag-'...\n",
            "remote: Enumerating objects: 108, done.\u001b[K\n",
            "remote: Counting objects: 100% (47/47), done.\u001b[K\n",
            "remote: Compressing objects: 100% (47/47), done.\u001b[K\n",
            "remote: Total 108 (delta 24), reused 0 (delta 0), pack-reused 61\u001b[K\n",
            "Receiving objects: 100% (108/108), 2.72 MiB | 16.02 MiB/s, done.\n",
            "Resolving deltas: 100% (79/79), done.\n"
          ]
        }
      ],
      "source": [
        "!git clone https://github.com/Map987/download-anime-mag-.git"
      ]
    },
    {
      "cell_type": "code",
      "source": [
        "from google.colab import drive\n",
        "drive.mount('/content/drive')"
      ],
      "metadata": {
        "id": "Y6FG_-J34boZ",
        "outputId": "c33ca70e-7db4-435b-8803-97647d545285",
        "colab": {
          "base_uri": "https://localhost:8080/"
        }
      },
      "execution_count": 2,
      "outputs": [
        {
          "output_type": "stream",
          "name": "stdout",
          "text": [
            "Mounted at /content/drive\n"
          ]
        }
      ]
    },
    {
      "cell_type": "code",
      "source": [
        "import os\n",
        "\n",
        "folders = [\"/content/sample_data/outputtxt\", \"/content/sample_data/outtxt\", \"/content/sample_data/imagebig/\"]\n",
        "for folder in folders:\n",
        "    os.makedirs(folder, exist_ok=True)"
      ],
      "metadata": {
        "id": "IhdnHQxv4YBW"
      },
      "execution_count": 7,
      "outputs": []
    },
    {
      "cell_type": "code",
      "source": [
        "import os\n",
        "import re\n",
        "import xml.etree.ElementTree as ET\n",
        "from typing import List\n",
        "\n",
        "def extract_links(xml_string: str) -> List[str]:\n",
        "    root = ET.fromstring(xml_string)\n",
        "    links = []\n",
        "    for url in root.findall('{http://www.sitemaps.org/schemas/sitemap/0.9}url'):\n",
        "        image_loc = url.find('{http://www.google.com/schemas/sitemap-image/1.1}image').find('{http://www.google.com/schemas/sitemap-image/1.1}loc').text\n",
        "        if image_loc:\n",
        "            links.append(image_loc)\n",
        "    return links"
      ],
      "metadata": {
        "id": "MCNkHReC4orR"
      },
      "execution_count": 4,
      "outputs": []
    },
    {
      "cell_type": "code",
      "source": [
        "def write_links_to_file(file_path: str, links: List[str]) -> None:\n",
        "    with open(file_path, 'w') as f:\n",
        "        for link in links:\n",
        "            f.write(link)"
      ],
      "metadata": {
        "id": "_9N6QNac4rxN"
      },
      "execution_count": 5,
      "outputs": []
    },
    {
      "cell_type": "code",
      "source": [
        "input_folder = '/content/download-anime-mag-/'\n",
        "output_folder = '/content/sample_data/outputtxt/'\n",
        "\n",
        "for file_name in os.listdir(input_folder):\n",
        "    if file_name.endswith('.xml'):\n",
        "        input_path = os.path.join(input_folder, file_name)\n",
        "        with open(input_path, 'r') as f:\n",
        "            xml_string = f.read()\n",
        "        links = extract_links(xml_string)\n",
        "        output_path = os.path.join(output_folder, file_name[:-4] + '.txt')\n",
        "        write_links_to_file(output_path, links)\n",
        "        print(f'{output_path} written successfully.\\n')"
      ],
      "metadata": {
        "id": "4vIBCHGO4voj"
      },
      "execution_count": null,
      "outputs": []
    },
    {
      "cell_type": "code",
      "source": [
        "import os\n",
        "\n",
        "input_folder_path = '/content/sample_data/outputtxt/'\n",
        "output_folder_path = '/content/sample_data/outtxt/'\n",
        "\n",
        "# get all .txt files in input folder\n",
        "files = [f for f in os.listdir(input_folder_path) if os.path.isfile(os.path.join(input_folder_path, f)) and f.endswith('.txt')]\n",
        "\n",
        "for file_name in files:\n",
        "    # open input file\n",
        "    input_file_path = os.path.join(input_folder_path, file_name)\n",
        "    with open(input_file_path, 'r') as input_file:\n",
        "        file_content = input_file.read()\n",
        "\n",
        "    # add newline before each https\n",
        "    file_content = file_content.replace('https://', 'https://')\n",
        "\n",
        "    # create output file\n",
        "    output_file_path = os.path.join(output_folder_path, file_name)\n",
        "    with open(output_file_path, 'w') as output_file:\n",
        "        output_file.write(file_content)"
      ],
      "metadata": {
        "id": "PduZW4YQ4zUq"
      },
      "execution_count": 9,
      "outputs": []
    },
    {
      "cell_type": "code",
      "source": [
        "import os\n",
        "\n",
        "outtxt_dir = \"/content/sample_data/outtxt\"\n",
        "data_dir = \"/content/sample_data/\"\n",
        "\n",
        "# 遍历outtxt_dir目录中的所有txt文件\n",
        "for filename in os.listdir(outtxt_dir):\n",
        "    if filename.endswith(\".txt\") and filename.startswith(\"image-sitemap-\"):\n",
        "        # 获取X值\n",
        "        x = filename.split(\"-\")[-1].split(\".\")[0]\n",
        "\n",
        "        # 创建imageX文件夹\n",
        "        folder = os.path.join(data_dir, f\"image{x}\")\n",
        "        os.makedirs(folder, exist_ok=True)"
      ],
      "metadata": {
        "id": "66PtkiDb40ev"
      },
      "execution_count": 10,
      "outputs": []
    },
    {
      "cell_type": "code",
      "source": [
        "for x in range(1, 60):\n",
        "      with open(f'/content/sample_data/outtxt/image-sitemap-{x}.txt') as f:\n",
        "          links = f.read()\n",
        "\n",
        "          link_list = links.split('https://')\n",
        "\n",
        "          count = 0\n",
        "          with open(f'/content/sample_data/out/image-sitemap-{x}.txt', 'w') as outf:\n",
        "              for link in link_list:\n",
        "                  if '-e' in link:\n",
        "                      index = link.index('-e')\n",
        "                      link = link[:index] + link[link.index('.', index):]\n",
        "                      count += 1\n",
        "                      outf.write(f'https://{link}\\n')"
      ],
      "metadata": {
        "id": "nGupHcyHaRH_"
      },
      "execution_count": 25,
      "outputs": []
    },
    {
      "cell_type": "code",
      "source": [
        "\n",
        " import requests\n",
        " import os\n",
        " import zipfile\n",
        " import shutil\n",
        " from concurrent.futures import ThreadPoolExecutor, as_completed\n",
        "\n",
        " out_dir = '/content/sample_data/out'\n",
        " img_dir = '/content/sample_data/out/imageof'\n",
        "\n",
        " os.makedirs(img_dir, exist_ok=True)\n",
        "\n",
        " def download_image(url):\n",
        "     img_name = url.split('/')[-1]\n",
        "     r = requests.get(url, allow_redirects=True)\n",
        "     with open(os.path.join(img_dir, img_name), 'wb') as f:\n",
        "         f.write(r.content)\n",
        "\n",
        " with ThreadPoolExecutor(max_workers=16) as executor:\n",
        "     for x in range(1, 61):\n",
        "         with open(f'{out_dir}/image-sitemap-{x}.txt') as f:\n",
        "             link_list = f.read().split()\n",
        "             img_urls = [url for url in link_list if url.startswith('https://')]\n",
        "\n",
        "         futures = [executor.submit(download_image, url) for url in img_urls]\n",
        "         for future in as_completed(futures):\n",
        "             future.result()"
      ],
      "metadata": {
        "id": "q5QEXajMXP8p"
      },
      "execution_count": null,
      "outputs": []
    },
    {
      "cell_type": "code",
      "source": [
        "\n",
        " import os\n",
        " import zipfile\n",
        "\n",
        " out_dir = '/content/sample_data/out'\n",
        " img_dir = '/content/sample_data/out/imageof'\n",
        " zip_file = '/content/sample_data/imageof.zip'\n",
        "\n",
        " # Zip the imageof directory\n",
        " with zipfile.ZipFile(zip_file, 'w') as zip_f:\n",
        "     for root, dirs, files in os.walk(img_dir):\n",
        "         for file in files:\n",
        "             zip_f.write(os.path.join(root, file))\n",
        "\n",
        " # Get zip file size\n",
        " stat_info = os.stat(zip_file)\n",
        " size_mb = stat_info.st_size / (1024 * 1024)\n",
        " print(f'Zip file size: {size_mb:.2f} MB')"
      ],
      "metadata": {
        "id": "pdShpIX2TMCL",
        "outputId": "5d7251e8-a5f8-4413-eda4-abed9d9781d2",
        "colab": {
          "base_uri": "https://localhost:8080/"
        }
      },
      "execution_count": null,
      "outputs": [
        {
          "output_type": "stream",
          "name": "stdout",
          "text": [
            "Zip file size: 18539.19 MB\n"
          ]
        }
      ]
    },
    {
      "cell_type": "code",
      "source": [
        "\n",
        " import os\n",
        " import zipfile\n",
        "\n",
        " out_dir = '/content/sample_data/out'\n",
        " img_dir = '/content/sample_data/out/imageof'\n",
        " zip_file = '/content/sample_data/imageof.zip'\n",
        "\n",
        " # Get total size of imageof folder\n",
        " total_size = 0\n",
        " for root, dirs, files in os.walk(img_dir):\n",
        "     for file in files:\n",
        "         total_size += os.path.getsize(os.path.join(root, file))\n",
        "\n",
        " # Split into 5 equal parts\n",
        " part_size = total_size // 5\n",
        "\n",
        " # Zip the imageof directory in parts\n",
        " for i in range(5):\n",
        "     zip_file_part = zip_file.replace('.zip', f'_part{i}.zip')\n",
        "     with zipfile.ZipFile(zip_file_part, 'w') as zip_f:\n",
        "         size_so_far = 0\n",
        "         for root, dirs, files in os.walk(img_dir):\n",
        "             for file in files:\n",
        "                 filename = os.path.join(root, file)\n",
        "                 file_size = os.path.getsize(filename)\n",
        "                 if size_so_far + file_size < part_size:\n",
        "                     zip_f.write(filename)\n",
        "                     size_so_far += file_size\n",
        "                 else:\n",
        "                     break\n",
        "\n",
        "     # Get zip file part size\n",
        "     stat_info = os.stat(zip_file_part)\n",
        "     size_mb = stat_info.st_size / (1024 * 1024)\n",
        "     print(f'Part {i} size: {size_mb:.2f} MB')"
      ],
      "metadata": {
        "id": "NQKhU3o2kdjL",
        "outputId": "265367b6-e13d-4da3-c556-d76da857cad5",
        "colab": {
          "base_uri": "https://localhost:8080/"
        }
      },
      "execution_count": null,
      "outputs": [
        {
          "output_type": "stream",
          "name": "stdout",
          "text": [
            "Part 0 size: 3706.67 MB\n",
            "Part 1 size: 3706.67 MB\n",
            "Part 2 size: 3706.67 MB\n",
            "Part 3 size: 3706.67 MB\n",
            "Part 4 size: 3706.67 MB\n"
          ]
        }
      ]
    },
    {
      "cell_type": "code",
      "source": [
        "\n",
        " import os\n",
        " import shutil\n",
        "\n",
        " out_dir = '/content/sample_data'\n",
        " drive_dir = '/content/drive/MyDrive'\n",
        " zip_file = '/content/sample_data/imageof_part0.zip'\n",
        "\n",
        " # Move zip file to drive directory\n",
        " shutil.move(zip_file, drive_dir)"
      ],
      "metadata": {
        "id": "CBTrEhtgY9pj",
        "outputId": "6801f0bc-e9b9-4a91-fff0-46683610b5bd",
        "colab": {
          "base_uri": "https://localhost:8080/",
          "height": 53
        }
      },
      "execution_count": null,
      "outputs": [
        {
          "output_type": "execute_result",
          "data": {
            "text/plain": [
              "'/content/drive/MyDrive/imageof_part0.zip'"
            ],
            "application/vnd.google.colaboratory.intrinsic+json": {
              "type": "string"
            }
          },
          "metadata": {},
          "execution_count": 21
        }
      ]
    }
  ]
}